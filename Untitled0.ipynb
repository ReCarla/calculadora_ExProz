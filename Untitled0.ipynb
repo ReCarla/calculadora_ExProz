{
  "nbformat": 4,
  "nbformat_minor": 0,
  "metadata": {
    "colab": {
      "provenance": [],
      "authorship_tag": "ABX9TyPhGt6dvQkA1WRdrg99ON1n",
      "include_colab_link": true
    },
    "kernelspec": {
      "name": "python3",
      "display_name": "Python 3"
    },
    "language_info": {
      "name": "python"
    }
  },
  "cells": [
    {
      "cell_type": "markdown",
      "metadata": {
        "id": "view-in-github",
        "colab_type": "text"
      },
      "source": [
        "<a href=\"https://colab.research.google.com/github/ReCarla/calculadora_ExProz/blob/main/Untitled0.ipynb\" target=\"_parent\"><img src=\"https://colab.research.google.com/assets/colab-badge.svg\" alt=\"Open In Colab\"/></a>"
      ]
    },
    {
      "cell_type": "code",
      "source": [
        "def calculadora():\n",
        "    while True:\n",
        "        print(\"1: Soma\")\n",
        "        print(\"2: Subtração\")\n",
        "        print(\"3: Multiplicação\")\n",
        "        print(\"4: Divisão\")\n",
        "        print(\"0: Sair\")\n",
        "\n",
        "        operacao = input(\"Escolha uma operação: \")\n",
        "\n",
        "        if operacao == \"0\":\n",
        "            print(\"Saindo...\")\n",
        "            break\n",
        "        elif operacao not in [\"1\", \"2\", \"3\", \"4\"]:\n",
        "            print(\"Essa opção não existe.\")\n",
        "            continue\n",
        "\n",
        "        valor1 = float(input(\"Digite o primeiro valor: \"))\n",
        "        valor2 = float(input(\"Digite o segundo valor: \"))\n",
        "\n",
        "        if operacao == \"1\":\n",
        "            resultado = valor1 + valor2\n",
        "            print(\"Resultado: \", resultado)\n",
        "        elif operacao == \"2\":\n",
        "            resultado = valor1 - valor2\n",
        "            print(\"Resultado: \", resultado)\n",
        "        elif operacao == \"3\":\n",
        "            resultado = valor1 * valor2\n",
        "            print(\"Resultado: \", resultado)\n",
        "        elif operacao == \"4\":\n",
        "            if valor2 != 0:\n",
        "                resultado = valor1 / valor2\n",
        "                print(\"Resultado: \", resultado)\n",
        "            else:\n",
        "                print(\"Erro: Divisão por zero.\")\n",
        "\n",
        "        print()\n",
        "\n",
        "calculadora()\n",
        "\n"
      ],
      "metadata": {
        "id": "wVr-tKL2yOqs",
        "colab": {
          "base_uri": "https://localhost:8080/"
        },
        "outputId": "1435b017-001f-452b-d7c0-a4c90dad9dc9"
      },
      "execution_count": null,
      "outputs": [
        {
          "metadata": {
            "tags": null
          },
          "name": "stdout",
          "output_type": "stream",
          "text": [
            "1: Soma\n",
            "2: Subtração\n",
            "3: Multiplicação\n",
            "4: Divisão\n",
            "0: Sair\n",
            "Resultado:  10.0\n",
            "\n",
            "1: Soma\n",
            "2: Subtração\n",
            "3: Multiplicação\n",
            "4: Divisão\n",
            "0: Sair\n"
          ]
        }
      ]
    },
    {
      "cell_type": "code",
      "source": [],
      "metadata": {
        "id": "P5kaDTSi6Sh7"
      },
      "execution_count": null,
      "outputs": []
    }
  ]
}